{
 "cells": [
  {
   "cell_type": "code",
   "execution_count": null,
   "id": "b63dcc50-6676-49e7-b918-690ee12706f4",
   "metadata": {},
   "outputs": [],
   "source": [
    "%load_ext autoreload\n",
    "%autoreload 2\n",
    "\n",
    "import numpy as np\n",
    "import pandas as pd\n",
    "import os\n",
    "import glob\n",
    "import seaborn as sns\n",
    "import pickle\n",
    "import music21\n",
    "import matplotlib.pyplot as plt\n",
    "\n",
    "from fractions import Fraction\n",
    "from collections import defaultdict, Counter\n",
    "from iteration_utilities import deepflatten #flatten nested lists\n",
    "\n",
    "from music21 import midi, note, stream, instrument, meter, key\n",
    "import itertools\n",
    "import random\n",
    "\n",
    "import string\n",
    "import pretty_midi\n",
    "\n",
    "import phrase_segmentation\n",
    "from phrase_segmentation import *\n",
    "\n",
    "from pathlib import Path\n",
    "\n",
    "# improve quality of plots\n",
    "%matplotlib inline\n",
    "%config InlineBackend.figure_format='retina'\n",
    "\n",
    "# add grid\n",
    "import seaborn as sns\n",
    "sns.set_style(\"whitegrid\")\n",
    "\n",
    "from phrase_tikz import ROOT_PATH"
   ]
  },
  {
   "cell_type": "code",
   "execution_count": null,
   "id": "d9c5706a-9c7e-42e2-a851-3dccfe544925",
   "metadata": {},
   "outputs": [],
   "source": [
    "DATA_PATH = ROOT_PATH / \"asap-dataset\"\n",
    "if not DATA_PATH.exists():\n",
    "    DATA_PATH = ROOT_PATH / \"data\" / \"asap-dataset\""
   ]
  },
  {
   "cell_type": "code",
   "execution_count": null,
   "id": "77b4d552-9970-452b-812f-bd8725373fe5",
   "metadata": {},
   "outputs": [],
   "source": [
    "piece_path = DATA_PATH / \"Schubert\" / \"Impromptu_op.90_D.899\" / \"3\"\n",
    "sig = 4\n",
    "\n",
    "annotations_files = glob.glob(os.path.join(piece_path, \"*annotations.txt\"))\n",
    "midi_files = glob.glob(os.path.join(piece_path, \"*.mid\"))\n",
    "annotations_files = [f for f in annotations_files if not f.endswith(\"midi_score_annotations.txt\")]\n",
    "midi_files = [f for f in midi_files if not f.endswith(\"midi_score.mid\")]\n",
    "annotations_files.sort()\n",
    "midi_files.sort()\n",
    "\n",
    "times_list, diff_list = read_diff_timings(annotations_files)\n",
    "times = np.array(times_list)\n",
    "diff = np.array(diff_list)\n",
    "\n",
    "midis = [pretty_midi.PrettyMIDI(midi_path) for midi_path in midi_files]\n",
    "\n",
    "velocity_curve = compute_all_smooth_velocity_curves(midis, times, 2)"
   ]
  },
  {
   "cell_type": "code",
   "execution_count": null,
   "id": "b305fc59-96f1-468e-98aa-9598b88f2f5b",
   "metadata": {},
   "outputs": [],
   "source": [
    "avg_diff = moving_average(diff, n=1)\n",
    "\n",
    "plot_avg_diff(avg_diff, sig)"
   ]
  },
  {
   "cell_type": "code",
   "execution_count": null,
   "id": "467cec0d-91b6-45c6-b6f1-5cb9ab3be15b",
   "metadata": {},
   "outputs": [],
   "source": [
    "break_idx, breaks = performance_segmentation(avg_diff, times, velocity_curve, sig=sig, plot=True)"
   ]
  },
  {
   "cell_type": "code",
   "execution_count": null,
   "id": "71f0e647-421d-4a71-8e23-1f70e747c823",
   "metadata": {},
   "outputs": [],
   "source": [
    "beat_indices = np.arange(break_idx.shape[0])[break_idx]\n",
    "measure_counts = (beat_indices) / sig + 1\n",
    "print(f\"Found {measure_counts.shape} phrase boundaries!\")\n",
    "print(measure_counts)\n",
    "\n",
    "zero_starting = measure_counts - 1\n",
    "print(f\"Zero starting for Tikz:\")\n",
    "print(zero_starting)"
   ]
  },
  {
   "cell_type": "markdown",
   "id": "4eec1481-efef-4eaf-a783-e0e17b77490f",
   "metadata": {},
   "source": [
    "# Corpus Version\n"
   ]
  },
  {
   "cell_type": "code",
   "execution_count": null,
   "id": "aa8d1d6f-fe5c-4ff0-9848-0c95dc0f86d6",
   "metadata": {},
   "outputs": [],
   "source": [
    "def run(piece_path, sig):\n",
    "    annotations_files = glob.glob(os.path.join(piece_path, \"*annotations.txt\"))\n",
    "    midi_files = glob.glob(os.path.join(piece_path, \"*.mid\"))\n",
    "    annotations_files = [f for f in annotations_files if not f.endswith(\"midi_score_annotations.txt\")]\n",
    "    midi_files = [f for f in midi_files if not f.endswith(\"midi_score.mid\")]\n",
    "    annotations_files.sort()\n",
    "    midi_files.sort()\n",
    "    \n",
    "    times_list, diff_list = read_diff_timings(annotations_files)\n",
    "    times = np.array(times_list)\n",
    "    diff = np.array(diff_list)\n",
    "    \n",
    "    midis = [pretty_midi.PrettyMIDI(midi_path) for midi_path in midi_files]\n",
    "    \n",
    "    velocity_curve = compute_all_smooth_velocity_curves(midis, times, 2)\n",
    "\n",
    "    avg_diff = moving_average(diff, n=1)\n",
    "    break_idx, breaks = performance_segmentation(avg_diff, times, velocity_curve, sig=sig)\n",
    "\n",
    "    beat_indices = np.arange(break_idx.shape[0])[break_idx]\n",
    "    measure_counts = (beat_indices) / sig + 1\n",
    "    print(f\"Found {measure_counts.shape} phrase boundaries!\")\n",
    "    print(measure_counts)\n",
    "    \n",
    "    zero_starting = measure_counts - 1\n",
    "\n",
    "    return zero_starting"
   ]
  },
  {
   "cell_type": "code",
   "execution_count": null,
   "id": "da2d42b6-a528-4d8f-a17d-d35e8a2d6cf9",
   "metadata": {},
   "outputs": [],
   "source": [
    "run(piece_path.parent / \"3\", sig=4)"
   ]
  },
  {
   "cell_type": "code",
   "execution_count": null,
   "id": "bb897f98-fbfa-4e71-861e-a8e4a5ea4781",
   "metadata": {},
   "outputs": [],
   "source": [
    "r1 = run(piece_path.parent / \"1\", sig=4)\n",
    "r2 = run(piece_path.parent / \"2\", sig=3)\n",
    "r4 = run(piece_path.parent / \"4\", sig=3)"
   ]
  },
  {
   "cell_type": "code",
   "execution_count": null,
   "id": "5dfe7906-8e48-4f6a-b65d-026b9f276fe4",
   "metadata": {},
   "outputs": [],
   "source": [
    "len(r1), len(r2), len(r4)"
   ]
  },
  {
   "cell_type": "code",
   "execution_count": null,
   "id": "1800cd2d-bd8e-4dbd-853d-99eee545b925",
   "metadata": {},
   "outputs": [],
   "source": []
  }
 ],
 "metadata": {
  "kernelspec": {
   "display_name": "Python 3 (ipykernel)",
   "language": "python",
   "name": "python3"
  },
  "language_info": {
   "codemirror_mode": {
    "name": "ipython",
    "version": 3
   },
   "file_extension": ".py",
   "mimetype": "text/x-python",
   "name": "python",
   "nbconvert_exporter": "python",
   "pygments_lexer": "ipython3",
   "version": "3.10.14"
  }
 },
 "nbformat": 4,
 "nbformat_minor": 5
}
