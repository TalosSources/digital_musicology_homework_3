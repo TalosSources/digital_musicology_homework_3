{
 "cells": [
  {
   "cell_type": "code",
   "execution_count": null,
   "id": "b63dcc50-6676-49e7-b918-690ee12706f4",
   "metadata": {},
   "outputs": [],
   "source": [
    "%load_ext autoreload\n",
    "%autoreload 2\n",
    "\n",
    "import numpy as np\n",
    "import pandas as pd\n",
    "import os\n",
    "import glob\n",
    "import seaborn as sns\n",
    "import pickle\n",
    "import music21\n",
    "import matplotlib.pyplot as plt\n",
    "\n",
    "from fractions import Fraction\n",
    "from collections import defaultdict, Counter\n",
    "from iteration_utilities import deepflatten #flatten nested lists\n",
    "\n",
    "from music21 import midi, note, stream, instrument, meter, key\n",
    "import itertools\n",
    "import random\n",
    "\n",
    "import string\n",
    "import pretty_midi\n",
    "\n",
    "import phrase_segmentation\n",
    "from phrase_segmentation import *\n",
    "\n",
    "from pathlib import Path"
   ]
  },
  {
   "cell_type": "code",
   "execution_count": null,
   "id": "77b4d552-9970-452b-812f-bd8725373fe5",
   "metadata": {},
   "outputs": [],
   "source": [
    "piece_path = Path(\"..\") / \"asap-dataset\" / \"Schubert\" / \"Impromptu_op.90_D.899\" / \"3\"\n",
    "filenames = glob.glob(os.path.join(piece_path, \"*annotations.txt\"))\n",
    "filenames = [f for f in filenames if not f.endswith(\"midi_score_annotations.txt\")]\n",
    "sig = 4\n",
    "times_list, diff_list = read_diff_timings(filenames)\n",
    "times = np.array(times_list)\n",
    "diff = np.array(diff_list)\n",
    "print(times.shape)\n",
    "print(diff.shape)"
   ]
  },
  {
   "cell_type": "code",
   "execution_count": null,
   "id": "b305fc59-96f1-468e-98aa-9598b88f2f5b",
   "metadata": {},
   "outputs": [],
   "source": [
    "avg_diff = moving_average(diff, n=5)\n",
    "threshold = compute_threshold(avg_diff)\n",
    "\n",
    "plot_avg_diff(avg_diff, threshold, sig)"
   ]
  },
  {
   "cell_type": "code",
   "execution_count": null,
   "id": "467cec0d-91b6-45c6-b6f1-5cb9ab3be15b",
   "metadata": {},
   "outputs": [],
   "source": [
    "break_idx, breaks = beat_segmentation_marco(avg_diff, threshold, times)"
   ]
  },
  {
   "cell_type": "code",
   "execution_count": null,
   "id": "71f0e647-421d-4a71-8e23-1f70e747c823",
   "metadata": {},
   "outputs": [],
   "source": [
    "plot_segmentation(avg_diff, threshold, break_idx, sig)\n",
    "measure_counts = np.arange(break_idx.shape[0])[break_idx] / 4 + 1\n",
    "print(measure_counts)\n",
    "#print(f\"breaks = {breaks}\")\n",
    "#print(f\"times={times}, break_idx={break_idx}n\")"
   ]
  },
  {
   "cell_type": "code",
   "execution_count": null,
   "id": "0bce00d1-f420-4fd4-ba62-36b9b896837b",
   "metadata": {},
   "outputs": [],
   "source": [
    "mid = music21.converter.parse(\"../asap-dataset/Schubert/Impromptu_op.90_D.899/3/Hou06M.mid\")\n",
    "mid.show('midi')\n"
   ]
  }
 ],
 "metadata": {
  "kernelspec": {
   "display_name": "Python 3 (ipykernel)",
   "language": "python",
   "name": "python3"
  },
  "language_info": {
   "codemirror_mode": {
    "name": "ipython",
    "version": 3
   },
   "file_extension": ".py",
   "mimetype": "text/x-python",
   "name": "python",
   "nbconvert_exporter": "python",
   "pygments_lexer": "ipython3",
   "version": "3.10.14"
  }
 },
 "nbformat": 4,
 "nbformat_minor": 5
}
