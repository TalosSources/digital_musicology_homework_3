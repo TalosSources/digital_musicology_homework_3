{
 "cells": [
  {
   "cell_type": "code",
   "execution_count": null,
   "id": "b63dcc50-6676-49e7-b918-690ee12706f4",
   "metadata": {},
   "outputs": [],
   "source": [
    "%load_ext autoreload\n",
    "%autoreload 2\n",
    "\n",
    "import numpy as np\n",
    "import pandas as pd\n",
    "import os\n",
    "import glob\n",
    "import seaborn as sns\n",
    "import pickle\n",
    "import music21\n",
    "import matplotlib.pyplot as plt\n",
    "\n",
    "from fractions import Fraction\n",
    "from collections import defaultdict, Counter\n",
    "from iteration_utilities import deepflatten #flatten nested lists\n",
    "\n",
    "from music21 import midi, note, stream, instrument, meter, key\n",
    "import itertools\n",
    "import random\n",
    "\n",
    "import string\n",
    "import pretty_midi\n",
    "\n",
    "import phrase_segmentation\n",
    "from phrase_segmentation import *\n",
    "\n",
    "from pathlib import Path\n",
    "\n",
    "# improve quality of plots\n",
    "%matplotlib inline\n",
    "%config InlineBackend.figure_format='retina'\n",
    "\n",
    "# add grid\n",
    "import seaborn as sns\n",
    "sns.set_style(\"whitegrid\")"
   ]
  },
  {
   "cell_type": "code",
   "execution_count": null,
   "id": "77b4d552-9970-452b-812f-bd8725373fe5",
   "metadata": {},
   "outputs": [],
   "source": [
    "piece_path = Path(\"..\") / \"asap-dataset\" / \"Schubert\" / \"Impromptu_op.90_D.899\" / \"4\"\n",
    "sig = 4 # beats per measure for the selected piece\n",
    "\n",
    "annotations_files = glob.glob(os.path.join(piece_path, \"*annotations.txt\"))\n",
    "midi_files = glob.glob(os.path.join(piece_path, \"*.mid\"))\n",
    "annotations_files = [f for f in annotations_files if not f.endswith(\"midi_score_annotations.txt\")]\n",
    "midi_files = [f for f in midi_files if not f.endswith(\"midi_score.mid\")]\n",
    "annotations_files.sort()\n",
    "midi_files.sort()\n",
    "\n",
    "times_list, diff_list = read_diff_timings(annotations_files)\n",
    "times = np.array(times_list)\n",
    "diff = np.array(diff_list)\n",
    "\n",
    "midis = [pretty_midi.PrettyMIDI(midi_path) for midi_path in midi_files]\n",
    "\n",
    "velocity_curve = compute_all_smooth_velocity_curves(midis, times, 2)"
   ]
  },
  {
   "cell_type": "code",
   "execution_count": null,
   "id": "b305fc59-96f1-468e-98aa-9598b88f2f5b",
   "metadata": {},
   "outputs": [],
   "source": [
    "avg_diff = moving_average(diff, n=1)\n",
    "\n",
    "plot_avg_diff(avg_diff, sig=sig)"
   ]
  },
  {
   "cell_type": "code",
   "execution_count": null,
   "id": "467cec0d-91b6-45c6-b6f1-5cb9ab3be15b",
   "metadata": {},
   "outputs": [],
   "source": [
    "break_idx, breaks = performance_segmentation(avg_diff, times, velocity_curve, sig=sig)"
   ]
  },
  {
   "cell_type": "code",
   "execution_count": null,
   "id": "71f0e647-421d-4a71-8e23-1f70e747c823",
   "metadata": {},
   "outputs": [],
   "source": [
    "beat_indices = np.arange(break_idx.shape[0])[break_idx]\n",
    "measure_counts = (beat_indices) / sig + 1\n",
    "print(f\"Found {measure_counts.shape} phrase boundaries!\")\n",
    "print(measure_counts)\n",
    "\n",
    "zero_starting = measure_counts - 1\n",
    "print(f\"Zero starting for Tikz:\")\n",
    "print(zero_starting)"
   ]
  }
 ],
 "metadata": {
  "kernelspec": {
   "display_name": "Python 3 (ipykernel)",
   "language": "python",
   "name": "python3"
  },
  "language_info": {
   "codemirror_mode": {
    "name": "ipython",
    "version": 3
   },
   "file_extension": ".py",
   "mimetype": "text/x-python",
   "name": "python",
   "nbconvert_exporter": "python",
   "pygments_lexer": "ipython3",
   "version": "3.10.14"
  }
 },
 "nbformat": 4,
 "nbformat_minor": 5
}
